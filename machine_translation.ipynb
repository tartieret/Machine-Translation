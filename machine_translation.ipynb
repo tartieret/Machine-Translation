{
 "cells": [
  {
   "cell_type": "markdown",
   "metadata": {
    "collapsed": true
   },
   "source": [
    "# Artificial Intelligence Nanodegree\n",
    "## Machine Translation Project\n",
    "In this notebook, sections that end with **'(IMPLEMENTATION)'** in the header indicate that the following blocks of code will require additional functionality which you must provide. Please be sure to read the instructions carefully!\n",
    "\n",
    "## Introduction\n",
    "In this notebook, you will build a deep neural network that functions as part of an end-to-end machine translation pipeline. Your completed pipeline will accept English text as input and return the French translation.\n",
    "\n",
    "- **Preprocess** - You'll convert text to sequence of integers.\n",
    "- **Models** Create models which accepts a sequence of integers as input and returns a probability distribution over possible translations. After learning about the basic types of neural networks that are often used for machine translation, you will engage in your own investigations, to design your own model!\n",
    "- **Prediction** Run the model on English text."
   ]
  },
  {
   "cell_type": "code",
   "execution_count": 36,
   "metadata": {},
   "outputs": [
    {
     "name": "stdout",
     "output_type": "stream",
     "text": [
      "The autoreload extension is already loaded. To reload it, use:\n",
      "  %reload_ext autoreload\n"
     ]
    }
   ],
   "source": [
    "%load_ext autoreload\n",
    "%aimport helper, tests\n",
    "%autoreload 1"
   ]
  },
  {
   "cell_type": "code",
   "execution_count": 37,
   "metadata": {},
   "outputs": [],
   "source": [
    "import collections\n",
    "\n",
    "import helper\n",
    "import numpy as np\n",
    "import project_tests as tests\n",
    "\n",
    "from keras.preprocessing.text import Tokenizer\n",
    "from keras.preprocessing.sequence import pad_sequences\n",
    "from keras.models import Model\n",
    "from keras.layers import GRU, Input, Dense, TimeDistributed, Activation, RepeatVector, Bidirectional\n",
    "from keras.layers.embeddings import Embedding\n",
    "from keras.optimizers import Adam\n",
    "from keras.losses import sparse_categorical_crossentropy"
   ]
  },
  {
   "cell_type": "markdown",
   "metadata": {},
   "source": [
    "### Verify access to the GPU\n",
    "The following test applies only if you expect to be using a GPU, e.g., while running in a Udacity Workspace or using an AWS instance with GPU support. Run the next cell, and verify that the device_type is \"GPU\".\n",
    "- If the device is not GPU & you are running from a Udacity Workspace, then save your workspace with the icon at the top, then click \"enable\" at the bottom of the workspace.\n",
    "- If the device is not GPU & you are running from an AWS instance, then refer to the cloud computing instructions in the classroom to verify your setup steps."
   ]
  },
  {
   "cell_type": "code",
   "execution_count": 38,
   "metadata": {},
   "outputs": [
    {
     "name": "stdout",
     "output_type": "stream",
     "text": [
      "[name: \"/cpu:0\"\n",
      "device_type: \"CPU\"\n",
      "memory_limit: 268435456\n",
      "locality {\n",
      "}\n",
      "incarnation: 9755637474483494499\n",
      ", name: \"/gpu:0\"\n",
      "device_type: \"GPU\"\n",
      "memory_limit: 312213504\n",
      "locality {\n",
      "  bus_id: 1\n",
      "}\n",
      "incarnation: 2853029806357682277\n",
      "physical_device_desc: \"device: 0, name: Tesla K80, pci bus id: 0000:00:04.0\"\n",
      "]\n"
     ]
    }
   ],
   "source": [
    "from tensorflow.python.client import device_lib\n",
    "print(device_lib.list_local_devices())"
   ]
  },
  {
   "cell_type": "markdown",
   "metadata": {},
   "source": [
    "## Dataset\n",
    "We begin by investigating the dataset that will be used to train and evaluate your pipeline.  The most common datasets used for machine translation are from [WMT](http://www.statmt.org/).  However, that will take a long time to train a neural network on.  We'll be using a dataset we created for this project that contains a small vocabulary.  You'll be able to train your model in a reasonable time with this dataset.\n",
    "### Load Data\n",
    "The data is located in `data/small_vocab_en` and `data/small_vocab_fr`. The `small_vocab_en` file contains English sentences with their French translations in the `small_vocab_fr` file. Load the English and French data from these files from running the cell below."
   ]
  },
  {
   "cell_type": "code",
   "execution_count": 39,
   "metadata": {},
   "outputs": [
    {
     "name": "stdout",
     "output_type": "stream",
     "text": [
      "Dataset Loaded\n"
     ]
    }
   ],
   "source": [
    "# Load English data\n",
    "english_sentences = helper.load_data('data/small_vocab_en')\n",
    "# Load French data\n",
    "french_sentences = helper.load_data('data/small_vocab_fr')\n",
    "\n",
    "print('Dataset Loaded')"
   ]
  },
  {
   "cell_type": "markdown",
   "metadata": {},
   "source": [
    "### Files\n",
    "Each line in `small_vocab_en` contains an English sentence with the respective translation in each line of `small_vocab_fr`.  View the first two lines from each file."
   ]
  },
  {
   "cell_type": "code",
   "execution_count": 40,
   "metadata": {},
   "outputs": [
    {
     "name": "stdout",
     "output_type": "stream",
     "text": [
      "small_vocab_en Line 1:  new jersey is sometimes quiet during autumn , and it is snowy in april .\n",
      "small_vocab_fr Line 1:  new jersey est parfois calme pendant l' automne , et il est neigeux en avril .\n",
      "small_vocab_en Line 2:  the united states is usually chilly during july , and it is usually freezing in november .\n",
      "small_vocab_fr Line 2:  les états-unis est généralement froid en juillet , et il gèle habituellement en novembre .\n"
     ]
    }
   ],
   "source": [
    "for sample_i in range(2):\n",
    "    print('small_vocab_en Line {}:  {}'.format(sample_i + 1, english_sentences[sample_i]))\n",
    "    print('small_vocab_fr Line {}:  {}'.format(sample_i + 1, french_sentences[sample_i]))"
   ]
  },
  {
   "cell_type": "markdown",
   "metadata": {},
   "source": [
    "From looking at the sentences, you can see they have been preprocessed already.  The puncuations have been delimited using spaces. All the text have been converted to lowercase.  This should save you some time, but the text requires more preprocessing.\n",
    "### Vocabulary\n",
    "The complexity of the problem is determined by the complexity of the vocabulary.  A more complex vocabulary is a more complex problem.  Let's look at the complexity of the dataset we'll be working with."
   ]
  },
  {
   "cell_type": "code",
   "execution_count": 41,
   "metadata": {},
   "outputs": [
    {
     "name": "stdout",
     "output_type": "stream",
     "text": [
      "1823250 English words.\n",
      "227 unique English words.\n",
      "10 Most common words in the English dataset:\n",
      "\"is\" \",\" \".\" \"in\" \"it\" \"during\" \"the\" \"but\" \"and\" \"sometimes\"\n",
      "\n",
      "1961295 French words.\n",
      "355 unique French words.\n",
      "10 Most common words in the French dataset:\n",
      "\"est\" \".\" \",\" \"en\" \"il\" \"les\" \"mais\" \"et\" \"la\" \"parfois\"\n"
     ]
    }
   ],
   "source": [
    "english_words_counter = collections.Counter([word for sentence in english_sentences for word in sentence.split()])\n",
    "french_words_counter = collections.Counter([word for sentence in french_sentences for word in sentence.split()])\n",
    "\n",
    "print('{} English words.'.format(len([word for sentence in english_sentences for word in sentence.split()])))\n",
    "print('{} unique English words.'.format(len(english_words_counter)))\n",
    "print('10 Most common words in the English dataset:')\n",
    "print('\"' + '\" \"'.join(list(zip(*english_words_counter.most_common(10)))[0]) + '\"')\n",
    "print()\n",
    "print('{} French words.'.format(len([word for sentence in french_sentences for word in sentence.split()])))\n",
    "print('{} unique French words.'.format(len(french_words_counter)))\n",
    "print('10 Most common words in the French dataset:')\n",
    "print('\"' + '\" \"'.join(list(zip(*french_words_counter.most_common(10)))[0]) + '\"')"
   ]
  },
  {
   "cell_type": "markdown",
   "metadata": {},
   "source": [
    "For comparison, _Alice's Adventures in Wonderland_ contains 2,766 unique words of a total of 15,500 words.\n",
    "## Preprocess\n",
    "For this project, you won't use text data as input to your model. Instead, you'll convert the text into sequences of integers using the following preprocess methods:\n",
    "1. Tokenize the words into ids\n",
    "2. Add padding to make all the sequences the same length.\n",
    "\n",
    "Time to start preprocessing the data...\n",
    "### Tokenize (IMPLEMENTATION)\n",
    "For a neural network to predict on text data, it first has to be turned into data it can understand. Text data like \"dog\" is a sequence of ASCII character encodings.  Since a neural network is a series of multiplication and addition operations, the input data needs to be number(s).\n",
    "\n",
    "We can turn each character into a number or each word into a number.  These are called character and word ids, respectively.  Character ids are used for character level models that generate text predictions for each character.  A word level model uses word ids that generate text predictions for each word.  Word level models tend to learn better, since they are lower in complexity, so we'll use those.\n",
    "\n",
    "Turn each sentence into a sequence of words ids using Keras's [`Tokenizer`](https://keras.io/preprocessing/text/#tokenizer) function. Use this function to tokenize `english_sentences` and `french_sentences` in the cell below.\n",
    "\n",
    "Running the cell will run `tokenize` on sample data and show output for debugging."
   ]
  },
  {
   "cell_type": "code",
   "execution_count": 42,
   "metadata": {},
   "outputs": [
    {
     "name": "stdout",
     "output_type": "stream",
     "text": [
      "{'the': 1, 'quick': 2, 'a': 3, 'brown': 4, 'fox': 5, 'jumps': 6, 'over': 7, 'lazy': 8, 'dog': 9, 'by': 10, 'jove': 11, 'my': 12, 'study': 13, 'of': 14, 'lexicography': 15, 'won': 16, 'prize': 17, 'this': 18, 'is': 19, 'short': 20, 'sentence': 21}\n",
      "\n",
      "Sequence 1 in x\n",
      "  Input:  The quick brown fox jumps over the lazy dog .\n",
      "  Output: [1, 2, 4, 5, 6, 7, 1, 8, 9]\n",
      "Sequence 2 in x\n",
      "  Input:  By Jove , my quick study of lexicography won a prize .\n",
      "  Output: [10, 11, 12, 2, 13, 14, 15, 16, 3, 17]\n",
      "Sequence 3 in x\n",
      "  Input:  This is a short sentence .\n",
      "  Output: [18, 19, 3, 20, 21]\n"
     ]
    }
   ],
   "source": [
    "def tokenize(x):\n",
    "    \"\"\"\n",
    "    Tokenize x\n",
    "    :param x: List of sentences/strings to be tokenized\n",
    "    :return: Tuple of (tokenized x data, tokenizer used to tokenize x)\n",
    "    \"\"\"\n",
    "    tokenizer = Tokenizer()\n",
    "    tokenizer.fit_on_texts(x)\n",
    "    output = tokenizer.texts_to_sequences(x)\n",
    "    return output, tokenizer\n",
    "\n",
    "tests.test_tokenize(tokenize)\n",
    "\n",
    "# Tokenize Example output\n",
    "text_sentences = [\n",
    "    'The quick brown fox jumps over the lazy dog .',\n",
    "    'By Jove , my quick study of lexicography won a prize .',\n",
    "    'This is a short sentence .']\n",
    "text_tokenized, text_tokenizer = tokenize(text_sentences)\n",
    "print(text_tokenizer.word_index)\n",
    "print()\n",
    "for sample_i, (sent, token_sent) in enumerate(zip(text_sentences, text_tokenized)):\n",
    "    print('Sequence {} in x'.format(sample_i + 1))\n",
    "    print('  Input:  {}'.format(sent))\n",
    "    print('  Output: {}'.format(token_sent))"
   ]
  },
  {
   "cell_type": "markdown",
   "metadata": {},
   "source": [
    "### Padding (IMPLEMENTATION)\n",
    "When batching the sequence of word ids together, each sequence needs to be the same length.  Since sentences are dynamic in length, we can add padding to the end of the sequences to make them the same length.\n",
    "\n",
    "Make sure all the English sequences have the same length and all the French sequences have the same length by adding padding to the **end** of each sequence using Keras's [`pad_sequences`](https://keras.io/preprocessing/sequence/#pad_sequences) function."
   ]
  },
  {
   "cell_type": "code",
   "execution_count": 43,
   "metadata": {},
   "outputs": [
    {
     "name": "stdout",
     "output_type": "stream",
     "text": [
      "Sequence 1 in x\n",
      "  Input:  [1 2 4 5 6 7 1 8 9]\n",
      "  Output: [1 2 4 5 6 7 1 8 9 0]\n",
      "Sequence 2 in x\n",
      "  Input:  [10 11 12  2 13 14 15 16  3 17]\n",
      "  Output: [10 11 12  2 13 14 15 16  3 17]\n",
      "Sequence 3 in x\n",
      "  Input:  [18 19  3 20 21]\n",
      "  Output: [18 19  3 20 21  0  0  0  0  0]\n"
     ]
    }
   ],
   "source": [
    "def pad(x, length=None):\n",
    "    \"\"\"\n",
    "    Pad x\n",
    "    :param x: List of sequences.\n",
    "    :param length: Length to pad the sequence to.  If None, use length of longest sequence in x.\n",
    "    :return: Padded numpy array of sequences\n",
    "    \"\"\"\n",
    "    return pad_sequences(x,maxlen=length, padding=\"post\")\n",
    "\n",
    "tests.test_pad(pad)\n",
    "\n",
    "# Pad Tokenized output\n",
    "test_pad = pad(text_tokenized)\n",
    "for sample_i, (token_sent, pad_sent) in enumerate(zip(text_tokenized, test_pad)):\n",
    "    print('Sequence {} in x'.format(sample_i + 1))\n",
    "    print('  Input:  {}'.format(np.array(token_sent)))\n",
    "    print('  Output: {}'.format(pad_sent))"
   ]
  },
  {
   "cell_type": "markdown",
   "metadata": {},
   "source": [
    "### Preprocess Pipeline\n",
    "Your focus for this project is to build neural network architecture, so we won't ask you to create a preprocess pipeline.  Instead, we've provided you with the implementation of the `preprocess` function."
   ]
  },
  {
   "cell_type": "code",
   "execution_count": 44,
   "metadata": {},
   "outputs": [
    {
     "name": "stdout",
     "output_type": "stream",
     "text": [
      "Data Preprocessed\n",
      "Max English sentence length: 15\n",
      "Max French sentence length: 21\n",
      "English vocabulary size: 199\n",
      "French vocabulary size: 344\n"
     ]
    }
   ],
   "source": [
    "def preprocess(x, y):\n",
    "    \"\"\"\n",
    "    Preprocess x and y\n",
    "    :param x: Feature List of sentences\n",
    "    :param y: Label List of sentences\n",
    "    :return: Tuple of (Preprocessed x, Preprocessed y, x tokenizer, y tokenizer)\n",
    "    \"\"\"\n",
    "    preprocess_x, x_tk = tokenize(x)\n",
    "    preprocess_y, y_tk = tokenize(y)\n",
    "\n",
    "    preprocess_x = pad(preprocess_x)\n",
    "    preprocess_y = pad(preprocess_y)\n",
    "\n",
    "    # Keras's sparse_categorical_crossentropy function requires the labels to be in 3 dimensions\n",
    "    preprocess_y = preprocess_y.reshape(*preprocess_y.shape, 1)\n",
    "\n",
    "    return preprocess_x, preprocess_y, x_tk, y_tk\n",
    "\n",
    "preproc_english_sentences, preproc_french_sentences, english_tokenizer, french_tokenizer =\\\n",
    "    preprocess(english_sentences, french_sentences)\n",
    "    \n",
    "max_english_sequence_length = preproc_english_sentences.shape[1]\n",
    "max_french_sequence_length = preproc_french_sentences.shape[1]\n",
    "english_vocab_size = len(english_tokenizer.word_index)\n",
    "french_vocab_size = len(french_tokenizer.word_index)\n",
    "\n",
    "print('Data Preprocessed')\n",
    "print(\"Max English sentence length:\", max_english_sequence_length)\n",
    "print(\"Max French sentence length:\", max_french_sequence_length)\n",
    "print(\"English vocabulary size:\", english_vocab_size)\n",
    "print(\"French vocabulary size:\", french_vocab_size)"
   ]
  },
  {
   "cell_type": "markdown",
   "metadata": {},
   "source": [
    "## Models\n",
    "In this section, you will experiment with various neural network architectures.\n",
    "You will begin by training four relatively simple architectures.\n",
    "- Model 1 is a simple RNN\n",
    "- Model 2 is a RNN with Embedding\n",
    "- Model 3 is a Bidirectional RNN\n",
    "- Model 4 is an optional Encoder-Decoder RNN\n",
    "\n",
    "After experimenting with the four simple architectures, you will construct a deeper architecture that is designed to outperform all four models.\n",
    "### Ids Back to Text\n",
    "The neural network will be translating the input to words ids, which isn't the final form we want.  We want the French translation.  The function `logits_to_text` will bridge the gab between the logits from the neural network to the French translation.  You'll be using this function to better understand the output of the neural network."
   ]
  },
  {
   "cell_type": "code",
   "execution_count": 45,
   "metadata": {},
   "outputs": [
    {
     "name": "stdout",
     "output_type": "stream",
     "text": [
      "`logits_to_text` function loaded.\n"
     ]
    }
   ],
   "source": [
    "def logits_to_text(logits, tokenizer):\n",
    "    \"\"\"\n",
    "    Turn logits from a neural network into text using the tokenizer\n",
    "    :param logits: Logits from a neural network\n",
    "    :param tokenizer: Keras Tokenizer fit on the labels\n",
    "    :return: String that represents the text of the logits\n",
    "    \"\"\"\n",
    "    index_to_words = {id: word for word, id in tokenizer.word_index.items()}\n",
    "    index_to_words[0] = '<PAD>'\n",
    "\n",
    "    return ' '.join([index_to_words[prediction] for prediction in np.argmax(logits, 1)])\n",
    "\n",
    "print('`logits_to_text` function loaded.')"
   ]
  },
  {
   "cell_type": "markdown",
   "metadata": {},
   "source": [
    "### Model 1: RNN (IMPLEMENTATION)\n",
    "![RNN](images/rnn.png)\n",
    "A basic RNN model is a good baseline for sequence data.  In this model, you'll build a RNN that translates English to French."
   ]
  },
  {
   "cell_type": "code",
   "execution_count": 19,
   "metadata": {},
   "outputs": [
    {
     "name": "stdout",
     "output_type": "stream",
     "text": [
      "*Simple model summary*\n",
      "_________________________________________________________________\n",
      "Layer (type)                 Output Shape              Param #   \n",
      "=================================================================\n",
      "gru_12 (GRU)                 (None, 21, 128)           49920     \n",
      "_________________________________________________________________\n",
      "dense_12 (Dense)             (None, 21, 344)           44376     \n",
      "=================================================================\n",
      "Total params: 94,296\n",
      "Trainable params: 94,296\n",
      "Non-trainable params: 0\n",
      "_________________________________________________________________\n",
      "*Simple model summary*\n",
      "_________________________________________________________________\n",
      "Layer (type)                 Output Shape              Param #   \n",
      "=================================================================\n",
      "gru_13 (GRU)                 (None, 21, 128)           49920     \n",
      "_________________________________________________________________\n",
      "dense_13 (Dense)             (None, 21, 345)           44505     \n",
      "=================================================================\n",
      "Total params: 94,425\n",
      "Trainable params: 94,425\n",
      "Non-trainable params: 0\n",
      "_________________________________________________________________\n",
      "Train on 110288 samples, validate on 27573 samples\n",
      "Epoch 1/10\n",
      "110288/110288 [==============================] - 9s 78us/step - loss: 2.2424 - acc: 0.5238 - val_loss: 1.6358 - val_acc: 0.5834\n",
      "Epoch 2/10\n",
      "110288/110288 [==============================] - 8s 72us/step - loss: 1.5213 - acc: 0.6101 - val_loss: 1.5842 - val_acc: 0.5797\n",
      "Epoch 3/10\n",
      "110288/110288 [==============================] - 8s 73us/step - loss: 1.4449 - acc: 0.6190 - val_loss: 1.6238 - val_acc: 0.5840\n",
      "Epoch 4/10\n",
      "110288/110288 [==============================] - 8s 72us/step - loss: 1.3902 - acc: 0.6295 - val_loss: 1.5972 - val_acc: 0.5890\n",
      "Epoch 5/10\n",
      "110288/110288 [==============================] - 8s 72us/step - loss: 1.3522 - acc: 0.6357 - val_loss: 1.5649 - val_acc: 0.5881\n",
      "Epoch 6/10\n",
      "110288/110288 [==============================] - 8s 72us/step - loss: 1.3324 - acc: 0.6387 - val_loss: 1.6574 - val_acc: 0.5799\n",
      "Epoch 7/10\n",
      "110288/110288 [==============================] - 8s 73us/step - loss: 1.3377 - acc: 0.6388 - val_loss: 1.7135 - val_acc: 0.5771\n",
      "Epoch 8/10\n",
      "110288/110288 [==============================] - 8s 72us/step - loss: 1.3089 - acc: 0.6440 - val_loss: 1.6955 - val_acc: 0.5789\n",
      "Epoch 9/10\n",
      "110288/110288 [==============================] - 8s 73us/step - loss: 1.2973 - acc: 0.6467 - val_loss: 1.7523 - val_acc: 0.5683\n",
      "Epoch 10/10\n",
      "110288/110288 [==============================] - 8s 73us/step - loss: 1.3151 - acc: 0.6431 - val_loss: 1.7046 - val_acc: 0.5820\n",
      "new jersey est parfois chaud en juin mais il est agréable en en <PAD> <PAD> <PAD> <PAD> <PAD> <PAD> <PAD> <PAD>\n"
     ]
    }
   ],
   "source": [
    "from keras.models import Sequential\n",
    "\n",
    "def simple_model(input_shape, output_sequence_length, english_vocab_size, french_vocab_size, learning_rate=0.1):\n",
    "    \"\"\"\n",
    "    Build and train a basic RNN on x and y\n",
    "    :param input_shape: Tuple of input shape\n",
    "    :param output_sequence_length: Length of output sequence\n",
    "    :param english_vocab_size: Number of unique English words in the dataset\n",
    "    :param french_vocab_size: Number of unique French words in the dataset\n",
    "    :return: Keras model built, but not trained\n",
    "    \"\"\"\n",
    "    model = Sequential()\n",
    "    model.add(GRU(128, dropout=0.1, input_shape=input_shape[1:],return_sequences=True))\n",
    "    #model.add(TimeDistributed(Dense(french_vocab_size, activation=\"softmax\")))\n",
    "    model.add(Dense(french_vocab_size, activation=\"softmax\"))\n",
    "    \n",
    "    print('*Simple model summary*')\n",
    "    model.summary()\n",
    "    \n",
    "    model.compile(loss=sparse_categorical_crossentropy,\n",
    "                  optimizer=Adam(learning_rate),\n",
    "                  metrics=['accuracy'])\n",
    "    return model\n",
    "tests.test_simple_model(simple_model)\n",
    "\n",
    "# Reshaping the input to work with a basic RNN\n",
    "tmp_x = pad(preproc_english_sentences, max_french_sequence_length)\n",
    "tmp_x = tmp_x.reshape((-1, preproc_french_sentences.shape[-2], 1))\n",
    "\n",
    "# Train the neural network\n",
    "simple_rnn_model = simple_model(\n",
    "    tmp_x.shape,\n",
    "    preproc_french_sentences.shape[1],\n",
    "    len(english_tokenizer.word_index)+1,\n",
    "    len(french_tokenizer.word_index)+1\n",
    ")\n",
    "\n",
    "simple_rnn_model.fit(tmp_x, preproc_french_sentences, batch_size=1024, epochs=10, validation_split=0.2)\n",
    "\n",
    "# Print prediction(s)\n",
    "print(logits_to_text(simple_rnn_model.predict(tmp_x[:1])[0], french_tokenizer))"
   ]
  },
  {
   "cell_type": "code",
   "execution_count": 16,
   "metadata": {},
   "outputs": [],
   "source": [
    "# save the model\n",
    "simple_rnn_model.save(\"simple_model.h5\")"
   ]
  },
  {
   "cell_type": "markdown",
   "metadata": {},
   "source": [
    "### Model 2: Embedding (IMPLEMENTATION)\n",
    "![RNN](images/embedding.png)\n",
    "You've turned the words into ids, but there's a better representation of a word.  This is called word embeddings.  An embedding is a vector representation of the word that is close to similar words in n-dimensional space, where the n represents the size of the embedding vectors.\n",
    "\n",
    "In this model, you'll create a RNN model using embedding."
   ]
  },
  {
   "cell_type": "code",
   "execution_count": 29,
   "metadata": {},
   "outputs": [
    {
     "name": "stdout",
     "output_type": "stream",
     "text": [
      "_________________________________________________________________\n",
      "Layer (type)                 Output Shape              Param #   \n",
      "=================================================================\n",
      "embedding_6 (Embedding)      (None, 21, 128)           44032     \n",
      "_________________________________________________________________\n",
      "gru_19 (GRU)                 (None, 21, 128)           98688     \n",
      "_________________________________________________________________\n",
      "dense_19 (Dense)             (None, 21, 344)           44376     \n",
      "=================================================================\n",
      "Total params: 187,096\n",
      "Trainable params: 187,096\n",
      "Non-trainable params: 0\n",
      "_________________________________________________________________\n",
      "_________________________________________________________________\n",
      "Layer (type)                 Output Shape              Param #   \n",
      "=================================================================\n",
      "embedding_7 (Embedding)      (None, 21, 128)           44160     \n",
      "_________________________________________________________________\n",
      "gru_20 (GRU)                 (None, 21, 128)           98688     \n",
      "_________________________________________________________________\n",
      "dense_20 (Dense)             (None, 21, 345)           44505     \n",
      "=================================================================\n",
      "Total params: 187,353\n",
      "Trainable params: 187,353\n",
      "Non-trainable params: 0\n",
      "_________________________________________________________________\n",
      "Train on 110288 samples, validate on 27573 samples\n",
      "Epoch 1/20\n",
      "110288/110288 [==============================] - 11s 97us/step - loss: 2.2311 - acc: 0.6000 - val_loss: 1.2573 - val_acc: 0.7030\n",
      "Epoch 2/20\n",
      "110288/110288 [==============================] - 10s 87us/step - loss: 1.0463 - acc: 0.7153 - val_loss: 0.8805 - val_acc: 0.7466\n",
      "Epoch 3/20\n",
      "110288/110288 [==============================] - 10s 87us/step - loss: 0.8464 - acc: 0.7524 - val_loss: 0.7777 - val_acc: 0.7697\n",
      "Epoch 4/20\n",
      "110288/110288 [==============================] - 10s 87us/step - loss: 0.7748 - acc: 0.7703 - val_loss: 0.7247 - val_acc: 0.7844\n",
      "Epoch 5/20\n",
      "110288/110288 [==============================] - 10s 88us/step - loss: 0.7224 - acc: 0.7841 - val_loss: 0.6788 - val_acc: 0.7976\n",
      "Epoch 6/20\n",
      "110288/110288 [==============================] - 10s 87us/step - loss: 0.6897 - acc: 0.7928 - val_loss: 0.6533 - val_acc: 0.8032\n",
      "Epoch 7/20\n",
      "110288/110288 [==============================] - 10s 88us/step - loss: 0.6629 - acc: 0.7991 - val_loss: 0.6315 - val_acc: 0.8055\n",
      "Epoch 8/20\n",
      "110288/110288 [==============================] - 10s 88us/step - loss: 0.6410 - acc: 0.8048 - val_loss: 0.6198 - val_acc: 0.8091\n",
      "Epoch 9/20\n",
      "110288/110288 [==============================] - 10s 88us/step - loss: 0.6272 - acc: 0.8080 - val_loss: 0.5885 - val_acc: 0.8191\n",
      "Epoch 10/20\n",
      "110288/110288 [==============================] - 10s 87us/step - loss: 0.6110 - acc: 0.8122 - val_loss: 0.5852 - val_acc: 0.8219\n",
      "Epoch 11/20\n",
      "110288/110288 [==============================] - 10s 87us/step - loss: 0.5996 - acc: 0.8163 - val_loss: 0.5718 - val_acc: 0.8253\n",
      "Epoch 12/20\n",
      "110288/110288 [==============================] - 10s 87us/step - loss: 0.5887 - acc: 0.8195 - val_loss: 0.5617 - val_acc: 0.8285\n",
      "Epoch 13/20\n",
      "110288/110288 [==============================] - 10s 87us/step - loss: 0.5767 - acc: 0.8236 - val_loss: 0.5669 - val_acc: 0.8259\n",
      "Epoch 14/20\n",
      "110288/110288 [==============================] - 10s 87us/step - loss: 0.5665 - acc: 0.8274 - val_loss: 0.5423 - val_acc: 0.8350\n",
      "Epoch 15/20\n",
      "110288/110288 [==============================] - 10s 87us/step - loss: 0.5551 - acc: 0.8312 - val_loss: 0.5289 - val_acc: 0.8375\n",
      "Epoch 16/20\n",
      "110288/110288 [==============================] - 10s 88us/step - loss: 0.5518 - acc: 0.8328 - val_loss: 0.5319 - val_acc: 0.8385\n",
      "Epoch 17/20\n",
      "110288/110288 [==============================] - 10s 87us/step - loss: 0.5459 - acc: 0.8351 - val_loss: 0.5242 - val_acc: 0.8398\n",
      "Epoch 18/20\n",
      "110288/110288 [==============================] - 10s 87us/step - loss: 0.5342 - acc: 0.8379 - val_loss: 0.5120 - val_acc: 0.8458\n",
      "Epoch 19/20\n",
      "110288/110288 [==============================] - 10s 87us/step - loss: 0.5277 - acc: 0.8393 - val_loss: 0.5189 - val_acc: 0.8424\n",
      "Epoch 20/20\n",
      "110288/110288 [==============================] - 10s 88us/step - loss: 0.5272 - acc: 0.8397 - val_loss: 0.5026 - val_acc: 0.8484\n",
      "new jersey est parfois calme en l' et l' il est neigeux avril en <PAD> <PAD> <PAD> <PAD> <PAD> <PAD> <PAD>\n"
     ]
    }
   ],
   "source": [
    "def embed_model(input_shape, output_sequence_length, english_vocab_size, french_vocab_size):\n",
    "    \"\"\"\n",
    "    Build and train a RNN model using word embedding on x and y\n",
    "    :param input_shape: Tuple of input shape\n",
    "    :param output_sequence_length: Length of output sequence\n",
    "    :param english_vocab_size: Number of unique English words in the dataset\n",
    "    :param french_vocab_size: Number of unique French words in the dataset\n",
    "    :return: Keras model built, but not trained\n",
    "    \"\"\"\n",
    "    model = Sequential()\n",
    "    # define an embedding layer\n",
    "    model.add(Embedding(\n",
    "        input_dim = max(english_vocab_size, french_vocab_size),\n",
    "        output_dim = 128,\n",
    "        input_length = output_sequence_length\n",
    "    ))\n",
    "    # GRU layers\n",
    "    model.add(GRU(128, dropout=0.1, return_sequences=True))\n",
    "\n",
    "    model.add(Dense(french_vocab_size, activation=\"softmax\"))\n",
    "    \n",
    "    model.summary()\n",
    "    \n",
    "    model.compile(loss=sparse_categorical_crossentropy,\n",
    "                 optimizer=Adam(0.1),\n",
    "                 metrics=[\"accuracy\"]\n",
    "    )\n",
    "    \n",
    "    return model\n",
    "\n",
    "tests.test_embed_model(embed_model)\n",
    "\n",
    "# Reshaping the input to work\n",
    "tmp_x = pad(preproc_english_sentences, max_french_sequence_length)\n",
    "\n",
    "# Train the neural network\n",
    "embed_rnn_model = embed_model(\n",
    "    tmp_x.shape,\n",
    "    preproc_french_sentences.shape[1],\n",
    "    len(english_tokenizer.word_index)+1,\n",
    "    len(french_tokenizer.word_index)+1\n",
    ")\n",
    "\n",
    "embed_rnn_model.fit(tmp_x, preproc_french_sentences, batch_size=1024, epochs=20, validation_split=0.2)\n",
    "\n",
    "# Print prediction(s)\n",
    "print(logits_to_text(embed_rnn_model.predict(tmp_x[:1])[0], french_tokenizer))\n"
   ]
  },
  {
   "cell_type": "code",
   "execution_count": 30,
   "metadata": {},
   "outputs": [],
   "source": [
    "# save the model\n",
    "embed_rnn_model.save(\"embed_model.h5\")"
   ]
  },
  {
   "cell_type": "markdown",
   "metadata": {},
   "source": [
    "### Model 3: Bidirectional RNNs (IMPLEMENTATION)\n",
    "![RNN](images/bidirectional.png)\n",
    "One restriction of a RNN is that it can't see the future input, only the past.  This is where bidirectional recurrent neural networks come in.  They are able to see the future data."
   ]
  },
  {
   "cell_type": "code",
   "execution_count": 34,
   "metadata": {},
   "outputs": [
    {
     "name": "stdout",
     "output_type": "stream",
     "text": [
      "*Simple model summary*\n",
      "_________________________________________________________________\n",
      "Layer (type)                 Output Shape              Param #   \n",
      "=================================================================\n",
      "bidirectional_3 (Bidirection (None, 21, 256)           99840     \n",
      "_________________________________________________________________\n",
      "time_distributed_13 (TimeDis (None, 21, 344)           88408     \n",
      "=================================================================\n",
      "Total params: 188,248\n",
      "Trainable params: 188,248\n",
      "Non-trainable params: 0\n",
      "_________________________________________________________________\n",
      "*Simple model summary*\n",
      "_________________________________________________________________\n",
      "Layer (type)                 Output Shape              Param #   \n",
      "=================================================================\n",
      "bidirectional_4 (Bidirection (None, 21, 256)           99840     \n",
      "_________________________________________________________________\n",
      "time_distributed_14 (TimeDis (None, 21, 345)           88665     \n",
      "=================================================================\n",
      "Total params: 188,505\n",
      "Trainable params: 188,505\n",
      "Non-trainable params: 0\n",
      "_________________________________________________________________\n",
      "Train on 110288 samples, validate on 27573 samples\n",
      "Epoch 1/20\n",
      "110288/110288 [==============================] - 13s 115us/step - loss: 3.7362 - acc: 0.5417 - val_loss: 2.8503 - val_acc: 0.6030\n",
      "Epoch 2/20\n",
      "110288/110288 [==============================] - 12s 106us/step - loss: 2.7750 - acc: 0.6285 - val_loss: 2.8920 - val_acc: 0.6062\n",
      "Epoch 3/20\n",
      "110288/110288 [==============================] - 12s 106us/step - loss: 2.7387 - acc: 0.6377 - val_loss: 3.0171 - val_acc: 0.6004\n",
      "Epoch 4/20\n",
      "110288/110288 [==============================] - 12s 107us/step - loss: 2.7813 - acc: 0.6402 - val_loss: 2.9837 - val_acc: 0.5939\n",
      "Epoch 5/20\n",
      "110288/110288 [==============================] - 12s 107us/step - loss: 2.7694 - acc: 0.6463 - val_loss: 3.0751 - val_acc: 0.5991\n",
      "Epoch 6/20\n",
      "110288/110288 [==============================] - 12s 107us/step - loss: 3.0822 - acc: 0.6136 - val_loss: 3.5574 - val_acc: 0.5767\n",
      "Epoch 7/20\n",
      "110288/110288 [==============================] - 12s 107us/step - loss: 3.2361 - acc: 0.6251 - val_loss: 3.3543 - val_acc: 0.5930\n",
      "Epoch 8/20\n",
      "110288/110288 [==============================] - 12s 107us/step - loss: 3.1460 - acc: 0.6417 - val_loss: 3.3663 - val_acc: 0.6088\n",
      "Epoch 9/20\n",
      "110288/110288 [==============================] - 12s 108us/step - loss: 3.1407 - acc: 0.6394 - val_loss: 3.3938 - val_acc: 0.5940\n",
      "Epoch 10/20\n",
      "110288/110288 [==============================] - 12s 108us/step - loss: 3.0994 - acc: 0.6476 - val_loss: 3.3831 - val_acc: 0.6062\n",
      "Epoch 11/20\n",
      "110288/110288 [==============================] - 12s 107us/step - loss: 3.0888 - acc: 0.6467 - val_loss: 3.4166 - val_acc: 0.5950\n",
      "Epoch 12/20\n",
      "110288/110288 [==============================] - 12s 106us/step - loss: 3.2129 - acc: 0.6357 - val_loss: 3.6790 - val_acc: 0.5865\n",
      "Epoch 13/20\n",
      "110288/110288 [==============================] - 12s 108us/step - loss: 3.2237 - acc: 0.6413 - val_loss: 3.4177 - val_acc: 0.6048\n",
      "Epoch 14/20\n",
      "110288/110288 [==============================] - 12s 108us/step - loss: 3.0863 - acc: 0.6548 - val_loss: 3.4692 - val_acc: 0.6058\n",
      "Epoch 15/20\n",
      "110288/110288 [==============================] - 12s 108us/step - loss: 3.7935 - acc: 0.5936 - val_loss: 4.0989 - val_acc: 0.5770\n",
      "Epoch 16/20\n",
      "110288/110288 [==============================] - 12s 108us/step - loss: 3.7134 - acc: 0.6121 - val_loss: 3.7129 - val_acc: 0.5958\n",
      "Epoch 17/20\n",
      "110288/110288 [==============================] - 12s 108us/step - loss: 3.5821 - acc: 0.6349 - val_loss: 3.7499 - val_acc: 0.5928\n",
      "Epoch 18/20\n",
      "110288/110288 [==============================] - 12s 107us/step - loss: 3.5599 - acc: 0.6385 - val_loss: 3.7485 - val_acc: 0.5880\n",
      "Epoch 19/20\n",
      "110288/110288 [==============================] - 12s 107us/step - loss: 3.5690 - acc: 0.6355 - val_loss: 3.7867 - val_acc: 0.5944\n",
      "Epoch 20/20\n",
      "110288/110288 [==============================] - 12s 107us/step - loss: 3.5613 - acc: 0.6365 - val_loss: 3.7393 - val_acc: 0.5875\n",
      "new jersey est parfois parfois en l' mais il est agréable en en <PAD> <PAD> <PAD> <PAD> <PAD> <PAD> <PAD> <PAD>\n"
     ]
    }
   ],
   "source": [
    "def bd_model(input_shape, output_sequence_length, english_vocab_size, french_vocab_size):\n",
    "    \"\"\"\n",
    "    Build and train a bidirectional RNN model on x and y\n",
    "    :param input_shape: Tuple of input shape\n",
    "    :param output_sequence_length: Length of output sequence\n",
    "    :param english_vocab_size: Number of unique English words in the dataset\n",
    "    :param french_vocab_size: Number of unique French words in the dataset\n",
    "    :return: Keras model built, but not trained\n",
    "    \"\"\"\n",
    "    model = Sequential()\n",
    "    model.add(Bidirectional(GRU(128, dropout=0.1,return_sequences=True),input_shape=input_shape[1:]))\n",
    "    model.add(TimeDistributed(Dense(french_vocab_size, activation=\"softmax\")))\n",
    "    \n",
    "    print('*Simple model summary*')\n",
    "    model.summary()\n",
    "    \n",
    "    model.compile(loss=sparse_categorical_crossentropy,\n",
    "                  optimizer=Adam(0.1),\n",
    "                  metrics=['accuracy'])\n",
    "    return model\n",
    "\n",
    "tests.test_bd_model(bd_model)\n",
    "\n",
    "# reshape the input\n",
    "tmp_x = pad(preproc_english_sentences, preproc_french_sentences.shape[1])\n",
    "tmp_x = tmp_x.reshape((-1, preproc_french_sentences.shape[-2], 1))\n",
    "\n",
    "# TODO: Train and Print prediction(s)\n",
    "bd_rnn_model = bd_model(\n",
    "    tmp_x.shape,\n",
    "    preproc_french_sentences.shape[1],\n",
    "    len(english_tokenizer.word_index)+1,\n",
    "    len(french_tokenizer.word_index)+1\n",
    ")\n",
    "\n",
    "bd_rnn_model.fit(tmp_x, preproc_french_sentences, batch_size=1024, epochs=20, validation_split=0.2)\n",
    "\n",
    "# Print prediction(s)\n",
    "print(logits_to_text(bd_rnn_model.predict(tmp_x[:1])[0], french_tokenizer))\n"
   ]
  },
  {
   "cell_type": "code",
   "execution_count": 35,
   "metadata": {},
   "outputs": [],
   "source": [
    "# save the model\n",
    "bd_rnn_model.save(\"embed_model.h5\")"
   ]
  },
  {
   "cell_type": "markdown",
   "metadata": {},
   "source": [
    "### Model 4: Encoder-Decoder (OPTIONAL)\n",
    "Time to look at encoder-decoder models.  This model is made up of an encoder and decoder. The encoder creates a matrix representation of the sentence.  The decoder takes this matrix as input and predicts the translation as output.\n",
    "\n",
    "Create an encoder-decoder model in the cell below."
   ]
  },
  {
   "cell_type": "code",
   "execution_count": 54,
   "metadata": {},
   "outputs": [
    {
     "name": "stdout",
     "output_type": "stream",
     "text": [
      "_________________________________________________________________\n",
      "Layer (type)                 Output Shape              Param #   \n",
      "=================================================================\n",
      "gru_40 (GRU)                 (None, 128)               49920     \n",
      "_________________________________________________________________\n",
      "repeat_vector_9 (RepeatVecto (None, 21, 128)           0         \n",
      "_________________________________________________________________\n",
      "gru_41 (GRU)                 (None, 21, 128)           98688     \n",
      "_________________________________________________________________\n",
      "time_distributed_22 (TimeDis (None, 21, 344)           44376     \n",
      "=================================================================\n",
      "Total params: 192,984\n",
      "Trainable params: 192,984\n",
      "Non-trainable params: 0\n",
      "_________________________________________________________________\n"
     ]
    },
    {
     "ename": "ValueError",
     "evalue": "Input 0 is incompatible with layer gru_42: expected ndim=3, found ndim=2",
     "output_type": "error",
     "traceback": [
      "\u001b[0;31m---------------------------------------------------------------------------\u001b[0m",
      "\u001b[0;31mValueError\u001b[0m                                Traceback (most recent call last)",
      "\u001b[0;32m<ipython-input-54-817475e6f8f4>\u001b[0m in \u001b[0;36m<module>\u001b[0;34m()\u001b[0m\n\u001b[1;32m     36\u001b[0m     \u001b[0mpreproc_french_sentences\u001b[0m\u001b[0;34m.\u001b[0m\u001b[0mshape\u001b[0m\u001b[0;34m[\u001b[0m\u001b[0;36m1\u001b[0m\u001b[0;34m]\u001b[0m\u001b[0;34m,\u001b[0m\u001b[0;34m\u001b[0m\u001b[0m\n\u001b[1;32m     37\u001b[0m     \u001b[0mlen\u001b[0m\u001b[0;34m(\u001b[0m\u001b[0menglish_tokenizer\u001b[0m\u001b[0;34m.\u001b[0m\u001b[0mword_index\u001b[0m\u001b[0;34m)\u001b[0m\u001b[0;34m+\u001b[0m\u001b[0;36m1\u001b[0m\u001b[0;34m,\u001b[0m\u001b[0;34m\u001b[0m\u001b[0m\n\u001b[0;32m---> 38\u001b[0;31m     \u001b[0mlen\u001b[0m\u001b[0;34m(\u001b[0m\u001b[0mfrench_tokenizer\u001b[0m\u001b[0;34m.\u001b[0m\u001b[0mword_index\u001b[0m\u001b[0;34m)\u001b[0m\u001b[0;34m+\u001b[0m\u001b[0;36m1\u001b[0m\u001b[0;34m\u001b[0m\u001b[0m\n\u001b[0m\u001b[1;32m     39\u001b[0m )\n\u001b[1;32m     40\u001b[0m \u001b[0;34m\u001b[0m\u001b[0m\n",
      "\u001b[0;32m<ipython-input-54-817475e6f8f4>\u001b[0m in \u001b[0;36mencdec_model\u001b[0;34m(input_shape, output_sequence_length, english_vocab_size, french_vocab_size)\u001b[0m\n\u001b[1;32m     10\u001b[0m     \u001b[0mmodel\u001b[0m \u001b[0;34m=\u001b[0m \u001b[0mSequential\u001b[0m\u001b[0;34m(\u001b[0m\u001b[0;34m)\u001b[0m\u001b[0;34m\u001b[0m\u001b[0m\n\u001b[1;32m     11\u001b[0m     \u001b[0;31m# encoder layer\u001b[0m\u001b[0;34m\u001b[0m\u001b[0;34m\u001b[0m\u001b[0m\n\u001b[0;32m---> 12\u001b[0;31m     \u001b[0mmodel\u001b[0m\u001b[0;34m.\u001b[0m\u001b[0madd\u001b[0m\u001b[0;34m(\u001b[0m\u001b[0mGRU\u001b[0m\u001b[0;34m(\u001b[0m\u001b[0;36m128\u001b[0m\u001b[0;34m,\u001b[0m \u001b[0minput_shape\u001b[0m\u001b[0;34m=\u001b[0m\u001b[0minput_shape\u001b[0m\u001b[0;34m[\u001b[0m\u001b[0;36m1\u001b[0m\u001b[0;34m:\u001b[0m\u001b[0;34m]\u001b[0m\u001b[0;34m,\u001b[0m \u001b[0mreturn_sequences\u001b[0m\u001b[0;34m=\u001b[0m\u001b[0;32mFalse\u001b[0m\u001b[0;34m)\u001b[0m\u001b[0;34m)\u001b[0m\u001b[0;34m\u001b[0m\u001b[0m\n\u001b[0m\u001b[1;32m     13\u001b[0m     \u001b[0mmodel\u001b[0m\u001b[0;34m.\u001b[0m\u001b[0madd\u001b[0m\u001b[0;34m(\u001b[0m\u001b[0mRepeatVector\u001b[0m\u001b[0;34m(\u001b[0m\u001b[0moutput_sequence_length\u001b[0m\u001b[0;34m)\u001b[0m\u001b[0;34m)\u001b[0m\u001b[0;34m\u001b[0m\u001b[0m\n\u001b[1;32m     14\u001b[0m     \u001b[0;31m# decoder layer\u001b[0m\u001b[0;34m\u001b[0m\u001b[0;34m\u001b[0m\u001b[0m\n",
      "\u001b[0;32m/opt/conda/lib/python3.6/site-packages/keras/models.py\u001b[0m in \u001b[0;36madd\u001b[0;34m(self, layer)\u001b[0m\n\u001b[1;32m    440\u001b[0m                 \u001b[0;31m# and create the node connecting the current layer\u001b[0m\u001b[0;34m\u001b[0m\u001b[0;34m\u001b[0m\u001b[0m\n\u001b[1;32m    441\u001b[0m                 \u001b[0;31m# to the input layer we just created.\u001b[0m\u001b[0;34m\u001b[0m\u001b[0;34m\u001b[0m\u001b[0m\n\u001b[0;32m--> 442\u001b[0;31m                 \u001b[0mlayer\u001b[0m\u001b[0;34m(\u001b[0m\u001b[0mx\u001b[0m\u001b[0;34m)\u001b[0m\u001b[0;34m\u001b[0m\u001b[0m\n\u001b[0m\u001b[1;32m    443\u001b[0m \u001b[0;34m\u001b[0m\u001b[0m\n\u001b[1;32m    444\u001b[0m             \u001b[0;32mif\u001b[0m \u001b[0mlen\u001b[0m\u001b[0;34m(\u001b[0m\u001b[0mlayer\u001b[0m\u001b[0;34m.\u001b[0m\u001b[0minbound_nodes\u001b[0m\u001b[0;34m)\u001b[0m \u001b[0;34m!=\u001b[0m \u001b[0;36m1\u001b[0m\u001b[0;34m:\u001b[0m\u001b[0;34m\u001b[0m\u001b[0m\n",
      "\u001b[0;32m/opt/conda/lib/python3.6/site-packages/keras/layers/recurrent.py\u001b[0m in \u001b[0;36m__call__\u001b[0;34m(self, inputs, initial_state, constants, **kwargs)\u001b[0m\n\u001b[1;32m    481\u001b[0m \u001b[0;34m\u001b[0m\u001b[0m\n\u001b[1;32m    482\u001b[0m         \u001b[0;32mif\u001b[0m \u001b[0minitial_state\u001b[0m \u001b[0;32mis\u001b[0m \u001b[0;32mNone\u001b[0m \u001b[0;32mand\u001b[0m \u001b[0mconstants\u001b[0m \u001b[0;32mis\u001b[0m \u001b[0;32mNone\u001b[0m\u001b[0;34m:\u001b[0m\u001b[0;34m\u001b[0m\u001b[0m\n\u001b[0;32m--> 483\u001b[0;31m             \u001b[0;32mreturn\u001b[0m \u001b[0msuper\u001b[0m\u001b[0;34m(\u001b[0m\u001b[0mRNN\u001b[0m\u001b[0;34m,\u001b[0m \u001b[0mself\u001b[0m\u001b[0;34m)\u001b[0m\u001b[0;34m.\u001b[0m\u001b[0m__call__\u001b[0m\u001b[0;34m(\u001b[0m\u001b[0minputs\u001b[0m\u001b[0;34m,\u001b[0m \u001b[0;34m**\u001b[0m\u001b[0mkwargs\u001b[0m\u001b[0;34m)\u001b[0m\u001b[0;34m\u001b[0m\u001b[0m\n\u001b[0m\u001b[1;32m    484\u001b[0m \u001b[0;34m\u001b[0m\u001b[0m\n\u001b[1;32m    485\u001b[0m         \u001b[0;31m# If any of `initial_state` or `constants` are specified and are Keras\u001b[0m\u001b[0;34m\u001b[0m\u001b[0;34m\u001b[0m\u001b[0m\n",
      "\u001b[0;32m/opt/conda/lib/python3.6/site-packages/keras/engine/topology.py\u001b[0m in \u001b[0;36m__call__\u001b[0;34m(self, inputs, **kwargs)\u001b[0m\n\u001b[1;32m    557\u001b[0m                 \u001b[0;31m# Raise exceptions in case the input is not compatible\u001b[0m\u001b[0;34m\u001b[0m\u001b[0;34m\u001b[0m\u001b[0m\n\u001b[1;32m    558\u001b[0m                 \u001b[0;31m# with the input_spec specified in the layer constructor.\u001b[0m\u001b[0;34m\u001b[0m\u001b[0;34m\u001b[0m\u001b[0m\n\u001b[0;32m--> 559\u001b[0;31m                 \u001b[0mself\u001b[0m\u001b[0;34m.\u001b[0m\u001b[0massert_input_compatibility\u001b[0m\u001b[0;34m(\u001b[0m\u001b[0minputs\u001b[0m\u001b[0;34m)\u001b[0m\u001b[0;34m\u001b[0m\u001b[0m\n\u001b[0m\u001b[1;32m    560\u001b[0m \u001b[0;34m\u001b[0m\u001b[0m\n\u001b[1;32m    561\u001b[0m                 \u001b[0;31m# Collect input shapes to build layer.\u001b[0m\u001b[0;34m\u001b[0m\u001b[0;34m\u001b[0m\u001b[0m\n",
      "\u001b[0;32m/opt/conda/lib/python3.6/site-packages/keras/engine/topology.py\u001b[0m in \u001b[0;36massert_input_compatibility\u001b[0;34m(self, inputs)\u001b[0m\n\u001b[1;32m    456\u001b[0m                                      \u001b[0mself\u001b[0m\u001b[0;34m.\u001b[0m\u001b[0mname\u001b[0m \u001b[0;34m+\u001b[0m \u001b[0;34m': expected ndim='\u001b[0m \u001b[0;34m+\u001b[0m\u001b[0;34m\u001b[0m\u001b[0m\n\u001b[1;32m    457\u001b[0m                                      \u001b[0mstr\u001b[0m\u001b[0;34m(\u001b[0m\u001b[0mspec\u001b[0m\u001b[0;34m.\u001b[0m\u001b[0mndim\u001b[0m\u001b[0;34m)\u001b[0m \u001b[0;34m+\u001b[0m \u001b[0;34m', found ndim='\u001b[0m \u001b[0;34m+\u001b[0m\u001b[0;34m\u001b[0m\u001b[0m\n\u001b[0;32m--> 458\u001b[0;31m                                      str(K.ndim(x)))\n\u001b[0m\u001b[1;32m    459\u001b[0m             \u001b[0;32mif\u001b[0m \u001b[0mspec\u001b[0m\u001b[0;34m.\u001b[0m\u001b[0mmax_ndim\u001b[0m \u001b[0;32mis\u001b[0m \u001b[0;32mnot\u001b[0m \u001b[0;32mNone\u001b[0m\u001b[0;34m:\u001b[0m\u001b[0;34m\u001b[0m\u001b[0m\n\u001b[1;32m    460\u001b[0m                 \u001b[0mndim\u001b[0m \u001b[0;34m=\u001b[0m \u001b[0mK\u001b[0m\u001b[0;34m.\u001b[0m\u001b[0mndim\u001b[0m\u001b[0;34m(\u001b[0m\u001b[0mx\u001b[0m\u001b[0;34m)\u001b[0m\u001b[0;34m\u001b[0m\u001b[0m\n",
      "\u001b[0;31mValueError\u001b[0m: Input 0 is incompatible with layer gru_42: expected ndim=3, found ndim=2"
     ]
    }
   ],
   "source": [
    "def encdec_model(input_shape, output_sequence_length, english_vocab_size, french_vocab_size):\n",
    "    \"\"\"\n",
    "    Build and train an encoder-decoder model on x and y\n",
    "    :param input_shape: Tuple of input shape\n",
    "    :param output_sequence_length: Length of output sequence\n",
    "    :param english_vocab_size: Number of unique English words in the dataset\n",
    "    :param french_vocab_size: Number of unique French words in the dataset\n",
    "    :return: Keras model built, but not trained\n",
    "    \"\"\"\n",
    "    model = Sequential()\n",
    "    # encoder layer\n",
    "    model.add(GRU(128, input_shape=input_shape[1:], return_sequences=False))\n",
    "    model.add(RepeatVector(output_sequence_length))\n",
    "    # decoder layer\n",
    "    model.add(GRU(128,return_sequences=True))\n",
    "    \n",
    "    model.add(TimeDistributed(Dense(french_vocab_size, activation=\"softmax\")))\n",
    "    \n",
    "    model.summary()\n",
    "    \n",
    "    model.compile(loss=sparse_categorical_crossentropy,\n",
    "                 optimizer=Adam(0.01),\n",
    "                 metrics=[\"accuracy\"]\n",
    "    )\n",
    "    return model\n",
    "    \n",
    "tests.test_encdec_model(encdec_model)\n",
    "\n",
    "\n",
    "# reshape the input\n",
    "tmp_x = pad(preproc_english_sentences, max_french_sequence_length)\n",
    "\n",
    "# Train and Print prediction(s)\n",
    "encdec_rnn_model = encdec_model(\n",
    "    tmp_x.shape,\n",
    "    preproc_french_sentences.shape[1],\n",
    "    len(english_tokenizer.word_index)+1,\n",
    "    len(french_tokenizer.word_index)+1\n",
    ")\n",
    "\n",
    "encdec_rnn_model.fit(tmp_x, preproc_french_sentences, batch_size=1024, epochs=40, validation_split=0.2)\n",
    "\n",
    "# Print prediction(s)\n",
    "print(logits_to_text(encdec_rnn_model.predict(tmp_x[:1])[0], french_tokenizer))"
   ]
  },
  {
   "cell_type": "code",
   "execution_count": 50,
   "metadata": {},
   "outputs": [],
   "source": [
    "encdec_rnn_model.save(\"encdec_model.h5\")"
   ]
  },
  {
   "cell_type": "markdown",
   "metadata": {},
   "source": [
    "### Model 5: Custom (IMPLEMENTATION)\n",
    "Use everything you learned from the previous models to create a model that incorporates embedding and a bidirectional rnn into one model."
   ]
  },
  {
   "cell_type": "code",
   "execution_count": 59,
   "metadata": {},
   "outputs": [
    {
     "name": "stdout",
     "output_type": "stream",
     "text": [
      "_________________________________________________________________\n",
      "Layer (type)                 Output Shape              Param #   \n",
      "=================================================================\n",
      "embedding_16 (Embedding)     (None, 15, 128)           44032     \n",
      "_________________________________________________________________\n",
      "bidirectional_8 (Bidirection (None, 256)               197376    \n",
      "_________________________________________________________________\n",
      "repeat_vector_16 (RepeatVect (None, 21, 256)           0         \n",
      "_________________________________________________________________\n",
      "bidirectional_9 (Bidirection (None, 21, 256)           295680    \n",
      "_________________________________________________________________\n",
      "time_distributed_29 (TimeDis (None, 21, 344)           88408     \n",
      "=================================================================\n",
      "Total params: 625,496\n",
      "Trainable params: 625,496\n",
      "Non-trainable params: 0\n",
      "_________________________________________________________________\n"
     ]
    }
   ],
   "source": [
    "def model_final(input_shape, output_sequence_length, english_vocab_size, french_vocab_size):\n",
    "    \"\"\"\n",
    "    Build and train a model that incorporates embedding, encoder-decoder, and bidirectional RNN on x and y\n",
    "    :param input_shape: Tuple of input shape\n",
    "    :param output_sequence_length: Length of output sequence\n",
    "    :param english_vocab_size: Number of unique English words in the dataset\n",
    "    :param french_vocab_size: Number of unique French words in the dataset\n",
    "    :return: Keras model built, but not trained\n",
    "    \"\"\"\n",
    "    # Build a machine translation model using Embedding & Encoder / Decoder\n",
    "    model = Sequential()\n",
    "    \n",
    "    # define an embedding layer\n",
    "    model.add(Embedding(\n",
    "        input_dim = max(english_vocab_size, french_vocab_size),\n",
    "        output_dim = 128,\n",
    "        input_length = input_shape[1]\n",
    "    ))\n",
    "    \n",
    "    # encoder layer\n",
    "    model.add(Bidirectional(GRU(128)))\n",
    "    model.add(RepeatVector(output_sequence_length))\n",
    "    # decoder layer\n",
    "    model.add(Bidirectional(GRU(128,return_sequences=True)))\n",
    "    \n",
    "    model.add(TimeDistributed(Dense(french_vocab_size, activation=\"softmax\")))\n",
    "    \n",
    "    model.summary()\n",
    "    \n",
    "    model.compile(loss=sparse_categorical_crossentropy,\n",
    "                 optimizer=Adam(0.01),\n",
    "                 metrics=[\"accuracy\"]\n",
    "    )\n",
    "    return model\n",
    "\n",
    "\n",
    "tests.test_model_final(model_final)\n",
    "\n"
   ]
  },
  {
   "cell_type": "markdown",
   "metadata": {},
   "source": [
    "## Prediction (IMPLEMENTATION)"
   ]
  },
  {
   "cell_type": "code",
   "execution_count": 64,
   "metadata": {},
   "outputs": [
    {
     "name": "stdout",
     "output_type": "stream",
     "text": [
      "_________________________________________________________________\n",
      "Layer (type)                 Output Shape              Param #   \n",
      "=================================================================\n",
      "embedding_21 (Embedding)     (None, 15, 128)           44160     \n",
      "_________________________________________________________________\n",
      "bidirectional_18 (Bidirectio (None, 256)               197376    \n",
      "_________________________________________________________________\n",
      "repeat_vector_21 (RepeatVect (None, 21, 256)           0         \n",
      "_________________________________________________________________\n",
      "bidirectional_19 (Bidirectio (None, 21, 256)           295680    \n",
      "_________________________________________________________________\n",
      "time_distributed_34 (TimeDis (None, 21, 345)           88665     \n",
      "=================================================================\n",
      "Total params: 625,881\n",
      "Trainable params: 625,881\n",
      "Non-trainable params: 0\n",
      "_________________________________________________________________\n",
      "Train on 110288 samples, validate on 27573 samples\n",
      "Epoch 1/20\n",
      "110288/110288 [==============================] - 27s 241us/step - loss: 1.9569 - acc: 0.5391 - val_loss: 1.2804 - val_acc: 0.6549\n",
      "Epoch 2/20\n",
      "110288/110288 [==============================] - 24s 213us/step - loss: 1.0013 - acc: 0.7163 - val_loss: 0.7521 - val_acc: 0.7817\n",
      "Epoch 3/20\n",
      "110288/110288 [==============================] - 23s 212us/step - loss: 0.6014 - acc: 0.8219 - val_loss: 0.4303 - val_acc: 0.8760\n",
      "Epoch 4/20\n",
      "110288/110288 [==============================] - 23s 213us/step - loss: 0.3168 - acc: 0.9115 - val_loss: 0.2577 - val_acc: 0.9281\n",
      "Epoch 5/20\n",
      "110288/110288 [==============================] - 23s 213us/step - loss: 0.2182 - acc: 0.9388 - val_loss: 0.2050 - val_acc: 0.9430\n",
      "Epoch 6/20\n",
      "110288/110288 [==============================] - 24s 213us/step - loss: 0.1826 - acc: 0.9484 - val_loss: 0.1581 - val_acc: 0.9559\n",
      "Epoch 7/20\n",
      "110288/110288 [==============================] - 24s 213us/step - loss: 0.1320 - acc: 0.9627 - val_loss: 0.1329 - val_acc: 0.9629\n",
      "Epoch 8/20\n",
      "110288/110288 [==============================] - 24s 214us/step - loss: 0.1203 - acc: 0.9658 - val_loss: 0.1183 - val_acc: 0.9672\n",
      "Epoch 9/20\n",
      "110288/110288 [==============================] - 24s 214us/step - loss: 0.1111 - acc: 0.9680 - val_loss: 0.1512 - val_acc: 0.9565\n",
      "Epoch 10/20\n",
      "110288/110288 [==============================] - 24s 214us/step - loss: 0.1214 - acc: 0.9646 - val_loss: 0.1778 - val_acc: 0.9487\n",
      "Epoch 11/20\n",
      "110288/110288 [==============================] - 24s 214us/step - loss: 0.1055 - acc: 0.9693 - val_loss: 0.1174 - val_acc: 0.9663\n",
      "Epoch 12/20\n",
      "110288/110288 [==============================] - 24s 214us/step - loss: 0.0969 - acc: 0.9717 - val_loss: 0.1259 - val_acc: 0.9648\n",
      "Epoch 13/20\n",
      "110288/110288 [==============================] - 24s 214us/step - loss: 0.0954 - acc: 0.9719 - val_loss: 0.1095 - val_acc: 0.9691\n",
      "Epoch 14/20\n",
      "110288/110288 [==============================] - 24s 214us/step - loss: 0.0879 - acc: 0.9744 - val_loss: 0.1140 - val_acc: 0.9670\n",
      "Epoch 15/20\n",
      "110288/110288 [==============================] - 24s 214us/step - loss: 0.0797 - acc: 0.9767 - val_loss: 0.0990 - val_acc: 0.9728\n",
      "Epoch 16/20\n",
      "110288/110288 [==============================] - 24s 214us/step - loss: 0.1383 - acc: 0.9595 - val_loss: 0.1424 - val_acc: 0.9599\n",
      "Epoch 17/20\n",
      "110288/110288 [==============================] - 24s 214us/step - loss: 0.1114 - acc: 0.9670 - val_loss: 0.1104 - val_acc: 0.9688\n",
      "Epoch 18/20\n",
      "110288/110288 [==============================] - 24s 214us/step - loss: 0.1047 - acc: 0.9692 - val_loss: 0.1249 - val_acc: 0.9636\n",
      "Epoch 19/20\n",
      "110288/110288 [==============================] - 24s 214us/step - loss: 0.0845 - acc: 0.9750 - val_loss: 0.0987 - val_acc: 0.9724\n",
      "Epoch 20/20\n",
      "110288/110288 [==============================] - 24s 214us/step - loss: 0.0800 - acc: 0.9763 - val_loss: 0.0918 - val_acc: 0.9745\n",
      "Sample 1:\n",
      "il a vu un vieux camion jaune <PAD> <PAD> <PAD> <PAD> <PAD> <PAD> <PAD> <PAD> <PAD> <PAD> <PAD> <PAD> <PAD> <PAD>\n",
      "Il a vu un vieux camion jaune\n",
      "Sample 2:\n",
      "new jersey est parfois calme pendant l' automne et il est neigeux en avril <PAD> <PAD> <PAD> <PAD> <PAD> <PAD> <PAD>\n",
      "new jersey est parfois calme pendant l' automne et il est neigeux en avril <PAD> <PAD> <PAD> <PAD> <PAD> <PAD> <PAD>\n"
     ]
    }
   ],
   "source": [
    "def final_predictions(x, y, x_tk, y_tk):\n",
    "    \"\"\"\n",
    "    Gets predictions using the final model\n",
    "    :param x: Preprocessed English data\n",
    "    :param y: Preprocessed French data\n",
    "    :param x_tk: English tokenizer\n",
    "    :param y_tk: French tokenizer\n",
    "    \"\"\"\n",
    "    # TODO: Train neural network using model_final\n",
    "    X_input = pad(preproc_english_sentences)\n",
    "    \n",
    "    model = model_final(\n",
    "        X_input.shape,\n",
    "        preproc_french_sentences.shape[1],\n",
    "        len(english_tokenizer.word_index)+1,\n",
    "        len(french_tokenizer.word_index)+1\n",
    "    )\n",
    "    model.fit(X_input, preproc_french_sentences, batch_size=1024, epochs=20, validation_split=0.2)\n",
    "\n",
    "    model.save(\"final_model.h5\")\n",
    "    \n",
    "    ## DON'T EDIT ANYTHING BELOW THIS LINE\n",
    "    y_id_to_word = {value: key for key, value in y_tk.word_index.items()}\n",
    "    y_id_to_word[0] = '<PAD>'\n",
    "\n",
    "    sentence = 'he saw a old yellow truck'\n",
    "    sentence = [x_tk.word_index[word] for word in sentence.split()]\n",
    "    sentence = pad_sequences([sentence], maxlen=x.shape[-1], padding='post')\n",
    "    sentences = np.array([sentence[0], x[0]])\n",
    "    predictions = model.predict(sentences, len(sentences))\n",
    "\n",
    "    print('Sample 1:')\n",
    "    print(' '.join([y_id_to_word[np.argmax(x)] for x in predictions[0]]))\n",
    "    print('Il a vu un vieux camion jaune')\n",
    "    print('Sample 2:')\n",
    "    print(' '.join([y_id_to_word[np.argmax(x)] for x in predictions[1]]))\n",
    "    print(' '.join([y_id_to_word[np.max(x)] for x in y[0]]))\n",
    "\n",
    "\n",
    "final_predictions(preproc_english_sentences, preproc_french_sentences, english_tokenizer, french_tokenizer)"
   ]
  },
  {
   "cell_type": "markdown",
   "metadata": {},
   "source": [
    "## Submission\n",
    "When you're ready to submit, complete the following steps:\n",
    "1. Review the [rubric](https://review.udacity.com/#!/rubrics/1004/view) to ensure your submission meets all requirements to pass\n",
    "2. Generate an HTML version of this notebook\n",
    "\n",
    "  - Run the next cell to attempt automatic generation (this is the recommended method in Workspaces)\n",
    "  - Navigate to **FILE -> Download as -> HTML (.html)**\n",
    "  - Manually generate a copy using `nbconvert` from your shell terminal\n",
    "```\n",
    "$ pip install nbconvert\n",
    "$ python -m nbconvert machine_translation.ipynb\n",
    "```\n",
    "  \n",
    "3. Submit the project\n",
    "\n",
    "  - If you are in a Workspace, simply click the \"Submit Project\" button (bottom towards the right)\n",
    "  \n",
    "  - Otherwise, add the following files into a zip archive and submit them \n",
    "  - `helper.py`\n",
    "  - `machine_translation.ipynb`\n",
    "  - `machine_translation.html`\n",
    "    - You can export the notebook by navigating to **File -> Download as -> HTML (.html)**."
   ]
  },
  {
   "cell_type": "markdown",
   "metadata": {},
   "source": [
    "### Generate the html\n",
    "\n",
    "**Save your notebook before running the next cell to generate the HTML output.** Then submit your project."
   ]
  },
  {
   "cell_type": "code",
   "execution_count": 65,
   "metadata": {},
   "outputs": [
    {
     "data": {
      "text/plain": [
       "['[NbConvertApp] Converting notebook machine_translation.ipynb to html',\n",
       " '[NbConvertApp] Writing 374204 bytes to machine_translation.html']"
      ]
     },
     "execution_count": 65,
     "metadata": {},
     "output_type": "execute_result"
    }
   ],
   "source": [
    "# Save before you run this cell!\n",
    "!!jupyter nbconvert *.ipynb"
   ]
  },
  {
   "cell_type": "markdown",
   "metadata": {},
   "source": [
    "## Optional Enhancements\n",
    "\n",
    "This project focuses on learning various network architectures for machine translation, but we don't evaluate the models according to best practices by splitting the data into separate test & training sets -- so the model accuracy is overstated. Use the [`sklearn.model_selection.train_test_split()`](http://scikit-learn.org/stable/modules/generated/sklearn.model_selection.train_test_split.html) function to create separate training & test datasets, then retrain each of the models using only the training set and evaluate the prediction accuracy using the hold out test set. Does the \"best\" model change?"
   ]
  }
 ],
 "metadata": {
  "kernelspec": {
   "display_name": "Python 3",
   "language": "python",
   "name": "python3"
  },
  "language_info": {
   "codemirror_mode": {
    "name": "ipython",
    "version": 3
   },
   "file_extension": ".py",
   "mimetype": "text/x-python",
   "name": "python",
   "nbconvert_exporter": "python",
   "pygments_lexer": "ipython3",
   "version": "3.6.3"
  }
 },
 "nbformat": 4,
 "nbformat_minor": 1
}
